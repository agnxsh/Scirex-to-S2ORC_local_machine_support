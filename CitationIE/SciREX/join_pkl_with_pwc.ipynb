{
 "cells": [
  {
   "cell_type": "code",
   "execution_count": 3,
   "metadata": {},
   "outputs": [],
   "source": [
    "import os \n",
    "import pickle"
   ]
  },
  {
   "cell_type": "code",
   "execution_count": 9,
   "metadata": {},
   "outputs": [
    {
     "ename": "ModuleNotFoundError",
     "evalue": "No module named '/home/agnish/work/sci_s2orc/CitationIE/join_scirex_and_s2orc'",
     "output_type": "error",
     "traceback": [
      "\u001b[0;31m---------------------------------------------------------------------------\u001b[0m",
      "\u001b[0;31mModuleNotFoundError\u001b[0m                       Traceback (most recent call last)",
      "Cell \u001b[0;32mIn[9], line 11\u001b[0m\n\u001b[1;32m      9\u001b[0m \u001b[39mwith\u001b[39;00m \u001b[39mopen\u001b[39m(\u001b[39m'\u001b[39m\u001b[39m/home/agnish/work/sci_s2orc/s2orc_hash_to_struct_mapping.pkl\u001b[39m\u001b[39m'\u001b[39m, \u001b[39m'\u001b[39m\u001b[39mrb\u001b[39m\u001b[39m'\u001b[39m) \u001b[39mas\u001b[39;00m f:\n\u001b[1;32m     10\u001b[0m     unpickler \u001b[39m=\u001b[39m MyCustomUnpickler(f)\n\u001b[0;32m---> 11\u001b[0m     obj \u001b[39m=\u001b[39m unpickler\u001b[39m.\u001b[39;49mload()\n\u001b[1;32m     13\u001b[0m \u001b[39mprint\u001b[39m(obj)\n\u001b[1;32m     14\u001b[0m \u001b[39mprint\u001b[39m(obj\u001b[39m.\u001b[39mname)\n",
      "Cell \u001b[0;32mIn[9], line 7\u001b[0m, in \u001b[0;36mMyCustomUnpickler.find_class\u001b[0;34m(self, module, name)\u001b[0m\n\u001b[1;32m      5\u001b[0m \u001b[39mif\u001b[39;00m module \u001b[39m==\u001b[39m \u001b[39m\"\u001b[39m\u001b[39m__main__\u001b[39m\u001b[39m\"\u001b[39m:\n\u001b[1;32m      6\u001b[0m     module \u001b[39m=\u001b[39m \u001b[39m\"\u001b[39m\u001b[39m/home/agnish/work/sci_s2orc/CitationIE/join_scirex_and_s2orc.py\u001b[39m\u001b[39m\"\u001b[39m\n\u001b[0;32m----> 7\u001b[0m \u001b[39mreturn\u001b[39;00m \u001b[39msuper\u001b[39;49m()\u001b[39m.\u001b[39;49mfind_class(module, name)\n",
      "\u001b[0;31mModuleNotFoundError\u001b[0m: No module named '/home/agnish/work/sci_s2orc/CitationIE/join_scirex_and_s2orc'"
     ]
    }
   ],
   "source": [
    "import pickle\n",
    "\n",
    "class MyCustomUnpickler(pickle.Unpickler):\n",
    "    def find_class(self, module, name):\n",
    "        if module == \"__main__\":\n",
    "            module = \"\"\n",
    "        return super().find_class(module, name)\n",
    "\n",
    "with open('/home/agnish/work/sci_s2orc/s2orc_hash_to_struct_mapping.pkl', 'rb') as f:\n",
    "    unpickler = MyCustomUnpickler(f)\n",
    "    obj = unpickler.load()\n",
    "\n",
    "print(obj)\n",
    "print(obj.name)"
   ]
  },
  {
   "cell_type": "code",
   "execution_count": null,
   "metadata": {},
   "outputs": [],
   "source": []
  }
 ],
 "metadata": {
  "kernelspec": {
   "display_name": "Python 3",
   "language": "python",
   "name": "python3"
  },
  "language_info": {
   "codemirror_mode": {
    "name": "ipython",
    "version": 3
   },
   "file_extension": ".py",
   "mimetype": "text/x-python",
   "name": "python",
   "nbconvert_exporter": "python",
   "pygments_lexer": "ipython3",
   "version": "3.10.6"
  },
  "orig_nbformat": 4
 },
 "nbformat": 4,
 "nbformat_minor": 2
}
